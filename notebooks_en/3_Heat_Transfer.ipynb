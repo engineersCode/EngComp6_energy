{
 "cells": [
  {
   "cell_type": "markdown",
   "metadata": {},
   "source": [
    "# Heating Up and Cooling Down: How We Use Energy to Change Temperature"
   ]
  },
  {
   "cell_type": "markdown",
   "metadata": {},
   "source": [
    "We know from experience that it can be hard to keep something at the temperature we want.  A hot cup of coffee cools down to room temperature before we're finished drinking it.  This happens even faster if we try to drink it outside on a cold day.  We can slow this down by using an insulated thermos, but this is only delaying the inevitable.\n",
    "\n",
    "It's a struggle to keep the temperature in our houses or offices comfortable too.  Without heaters and air conditioners, we would be at the mercy of whatever the outdoor temperature was.\n",
    "\n",
    "Heating and cooling is a constant battle against equilibrium (we will later define the term entropy to quantify this).  It requires energy to heat up your coffee (either the stove, electric coffee maker, or microwave), but it requires no energy to cool it back down to room temperature.  Similarly, it requires energy to cool your house in the summer, but it requires no energy to warm it back up to the outside temperature.\n",
    "\n",
    "In this lesson, we will simulate the transfer of heat between hot and cold substances, determine the important parameters, and estimate how much energy is required to heat that cup of coffee!"
   ]
  },
  {
   "cell_type": "markdown",
   "metadata": {},
   "source": [
    "## Learning objectives:\n",
    "\n",
    "1. To be able to use a balance of energy to determine how much energy is required to cause a desired temperature change\n",
    "1. To be able to simulate heat transfer by conduction"
   ]
  },
  {
   "cell_type": "markdown",
   "metadata": {},
   "source": [
    "## Contents:\n",
    "\n",
    "1. [What is Heat Transfer?](#heattrans)\n",
    "1. [Heat Transfer and Energy Balance](#heatenergy)\n",
    "1. [Simulating Heat Conduction](#simcond)"
   ]
  },
  {
   "cell_type": "markdown",
   "metadata": {},
   "source": [
    "<a id='heattrans'></a>\n",
    "\n",
    "### What is Heat Transfer?\n",
    "\n",
    "Before we get to any definitions, let's think about what happens when something hot is brought into contact with something cold.  Even if you don't know exactly what temperature is (other than a number on a scale), we know what happens when something hot touches something cold: the hot body gets colder and the cold body gets hotter until they reach the same temperature somewhere between their starting temperatures.  This final temperature is a *stable equilibrium*, meaning there will be no more changes in temperature after this point unless acted on by an outside force.\n",
    "\n",
    "Let's take a look at an animation showing a cold gas and a hot gas, initially separated but then allowed to mix together:\n",
    "\n",
    "<img src=\"../images/gas heat transfer.gif\" width=\"400\">\n",
    "\n",
    "The red bars on the left show the total kinetic energy $\\frac{1}{2}mv^2$ of the particles at that vertical position.  Initially, the bars in the upper half are all longer than the ones in the lower half, indicating that the particles in the top half are moving faster on average.  One the two gases mix, the distribution of kinetic energy quickly becomes uniform from top to bottom.\n",
    "\n",
    "This behavior matches what we see at the macro scale: a hot liquid and a cold liquid reaching some equilibrium in the middle once they are allowed to mix.\n",
    "\n",
    "This animation seems plausible for liquids and gases, where the particles move around randomly and are allowed to mix.  But what about solids?  The following animation shows that a similar phenomenon happens when two solids are brought in contact:\n",
    "\n",
    "<img src=\"../images/solid heat transfer.gif\" width=\"400\">\n",
    "\n",
    "Once again, the high velocity particles all start in the upper half, then quickly the kinetic energy becomes evenly distributed throughout.\n",
    "\n",
    "If we define **temperature** as the **average kinetic energy** of the particles in a substance, then the behavior we see at the macro scale matches the behavior we see in these animations of the microscale.\n",
    "\n",
    "The following plot shows the temperature change over time of a hot body in contact with a cold body, normalized on a scale from 0 to 1:\n",
    "\n",
    "<img src=\"../images/temperature vs time.png\" width=\"500\">\n",
    "\n",
    "In fact, this is the exact same behavior we see with the red bars in either animation: their average height converges to a value in the middle of their starting points, then does not change anymore over time.\n",
    "\n",
    "Energy is conserved in these simulations; all particle collisions are elastic, and the springs have no damping or friction.  But if we consider the top and bottom halves before and after the contact, the total kinetic energy in the top half goes down and the bottom half goes up.  So we can say that some energy moves from the top half to the bottom half and does not move back.  This energy that is transfered is what we call \"heat\".  **Heat is the energy exchanged between a hot substance and a cold substance.**  Note that when the two halves reach equilibrium (i.e. the same temperature), no more heat is transfered.\n",
    "\n",
    "Note that this heat transfer happens automatically; there are no external forces, moments, or sources of energy driving it.  However, it would require quite a bit of effort to undo the mixing and get all the fast particles to the top half and all the slow ones to the bottom half.\n",
    "\n",
    "This brings us back to the hot cup of coffee.  It costs nothing to cool the cup back to room temperature; that happens automatically as the two animations show.   But you will never see a room-temperature cup of coffee spontaneously heat itself up while cooling the room down.  It does take energy to heat the coffee back up again.  But how much energy does it take?"
   ]
  },
  {
   "cell_type": "markdown",
   "metadata": {},
   "source": [
    "<a id='heatenergy'></a>\n",
    "\n",
    "### Heat Transfer and Energy Balance\n",
    "\n",
    "The capacity for materials to store energy and transfer heat is an inhertent property of their chemical and structural composition.  For example, it takes about 45 mintues to cook a 1 pound baked potato in the oven, but 1 pound of broccoli can be steamed in about 10 minutes.  On the flip side, the baked potato will stay hot for longer than the broccoli once they are on your plate.  In addition, different cooking methods transfer heat at different rates: baking is generally slower than boiling, which is generally slower than microwaving.  So a combination of how energy is transferred and energy is stored in different substances determines how quickly they heat up or cool down.\n",
    "\n",
    "In our first example, we will remove time from the equation and just try to estimate how much energy it takes to heat a cup of coffee from room temperature ($T_1 = 20 ^\\circ C$) to a hot drinking temperature ($T_2 = 60 ^\\circ C$).  Intuitively, the energy required to heat the coffee is just the difference in kinetic energy the coffee molecules have before and after the heating.\n",
    "\n",
    "We will now set up a standard procedue for solving this type of \"energy problem\", which we will reinforce throughout these lessons."
   ]
  },
  {
   "cell_type": "markdown",
   "metadata": {},
   "source": [
    "Let's assume a 16-oz cup of coffee.  As far as its thermodynamic properties, we will assume they are the same as water's (until someone creates a nice thermodynamic model for coffee!).  We will also assume the coffee is under atmospheric pressure the whole time.\n",
    "\n",
    "<img src=\"../images/coffee ex.png\" width=\"200\" />\n",
    "\n",
    "We want to determine how much energy, in the form of heat transfer, flow into the coffee during the heating process.  The coffee inside the mug constitutes the **control system** whose properties we are interested in.  It is called a *control* system because the mass of liquid is constant throughout the process; we are ignoring any small amount that may evaporate.\n",
    "\n",
    "The following figure depicts the **control boundary**, which energy may pass through but not mass:\n",
    "\n",
    "<img src=\"../images/coffee ex control system.png\" width=\"400\" />\n",
    "\n",
    "When we model how energy flows into or out of a control system, we start with an **energy balance**:\n",
    "\n",
    "$E_{in} - E_{out} = \\Delta E_{sys}$\n",
    "\n",
    "which says that the net energy transfer into the system ($E_{in}-E_{out}$) must equal the change in the system's energy $\\Delta E_{sys}$.  This idea stems from Conservation of Energy, the idea that energy is neither created nor destroyed.  Think about your checking account balance: any change from one day to the next is equal to the net deposits minus the net withdrawals.  Money doesn't just appear or disappear from your account with no transaction (hopefully!).\n",
    "\n",
    "<img src=\"../images/energy balance.png\" width=\"400\" />\n",
    "\n",
    "How does energy transfer into the system?  We've discussed one way, heat transfer, which we will label as $Q$.  It has the same units as energy (joules).  As we defined above, heat transfer is the energy transferred to or from a system due to a difference in temperature with its environment.\n",
    "\n",
    "Another way energy is transfered is through **work**, $W$, which in this module will mean mechanical work.  In Thermodynamics applications, this is usually pushing a piston, like in a car engine, or turning a turbine, like in a power plant.  (More on work in the next lesson.)\n",
    "\n",
    "Using these variables, we can rewrite the energy balance as\n",
    "\n",
    "$Q - W = \\Delta E_{sys}$\n",
    "\n",
    "where we define $Q > 0$ to be heat transferred *to* the system and $W > 0$ to be work done *by* the system (on the surroundings).  This equation is known at the [First Law of Thermodynamics](https://en.wikipedia.org/wiki/First_law_of_thermodynamics).\n",
    "\n",
    "<img src=\"../images/first law.png\" width=\"400\" />\n",
    "\n",
    "We should note that any of these terms could be positive, negative, or zero.  Here are some examples:\n",
    "\n",
    "* $Q > 0$.  Heat is transferred to the system.  For example, heat is transferred to a system consisting of a pot of water on the stove.\n",
    "* $Q < 0$.  Heat is transferred from the system.  For example, a system consisting of a hot cup of coffee sitting on the counter transfers heat to the surroundings.\n",
    "* $W > 0$.  Work is done by the system.  For example, a system consisting of water flowing through a turbine does work on the rotating shaft.\n",
    "* $W < 0$.  Work is done on the system.  For example, a fan does work on a system consising of air in a ventilation duct.\n",
    "\n",
    "The mug of coffee is not doing any work, and so we can simplify this as\n",
    "\n",
    "$Q = \\Delta E_{sys}$\n",
    "\n",
    "So, at this point, we know that the heat transfered into the system is equal to the change in the system's energy.  But how does a change in the systems energy translate into a change in temperature?\n",
    "\n",
    "First, we must break down what we mean by a \"system's energy\".  This is typically done in the following fashion:\n",
    "\n",
    "$\\Delta E_{sys} = \\Delta U + \\Delta KE + \\Delta PE + \\dotsb$\n",
    "\n",
    "where \n",
    "\n",
    "* $\\Delta U$ is the change in energy associated with the random motion of the system's particles, which typically has components of translation, rotation, and vibration.  Unless we knew the exact position and velocity of every particle, we can't actually calculate this.  Instead, it is inferred from experiments, for example, by heating a liquid with a known amount of energy!\n",
    "* $\\Delta KE$ is the change in kinetic energy of the overall system, also known as the \"bulk motion\".  The cup of coffee is not moving with respect to the earth (inertial frame), so $\\Delta KE = 0$ in our example.\n",
    "* $\\Delta PE$ is the change in potential energy of the overall system.  For example, this is significant in a hydroelectric dam, where the water falls a great distance before turning the turbines in the dam.  In our example, the cup is stationary, so there are no changes in potential energy, so $\\Delta PE = 0$.\n",
    "* In general, there may be other terms, like a change in electrical or magnetic potential energy, but we will not consider any of these other forms in these lessons.\n",
    "\n",
    "So, our energy balance reduces to\n",
    "\n",
    "$Q = \\Delta U$\n",
    "\n",
    "The rate at which a change in the internal energy translates into a change in temperature is given by\n",
    "\n",
    "\\\\(\\dfrac{\\partial U}{\\partial T} = m c_v\\\\)\n",
    "\n",
    "where $m$ is the mass of the substance (coffee in this case), and $c_v$ is called the **specific heat**, which has units of $\\frac{J}{kg \\cdot K}$ or $\\frac{kJ}{kg \\cdot K}$.  Note the word \"specific\" again indicates a per-mass basis, just like specific volume.  The subscript \"v\" indicates that the volume is held constant as the temperature changes.  For liquids and solids, this is usually the case (see \"Incompressible Liquids\" in the previous lesson).\n",
    "\n",
    "The specific heat $c_v$ is a function of temperature and pressure, but if the temperature and pressure ranges aren't too great, we can assume it's constant.  Let's make that assumption and see how accurate it is.\n",
    "\n",
    "If $c_v = const.$, then we get\n",
    "\n",
    "$\\Delta U = m c_v \\Delta T = m c_v (T_2 - T_1)$\n",
    "\n",
    "First, let's import the libraries we'll need for this lesson:"
   ]
  },
  {
   "cell_type": "code",
   "execution_count": null,
   "metadata": {},
   "outputs": [],
   "source": [
    "import numpy as np\n",
    "import matplotlib.pyplot as plt\n",
    "import cantera as ct"
   ]
  },
  {
   "cell_type": "markdown",
   "metadata": {},
   "source": [
    "Now, we'll create a water object and set its thermodynamic state, this time using temperature and pressure.  Then we'll call the function `w.cv` to get the specific heat $c_v$:"
   ]
  },
  {
   "cell_type": "code",
   "execution_count": null,
   "metadata": {},
   "outputs": [],
   "source": [
    "# state 1\n",
    "state1 = ct.Water()    # create water object\n",
    "P1 = 1.0*101325.0   # pressure [Pa]\n",
    "T1 = 20 + 273.15     # temperature [K]\n",
    "state1.TP = T1, P1        # set the temperature and pressure\n",
    "cv1 = state1.cv           # get specific heat [J/(kg*K)]\n",
    "\n",
    "print('Specific heat at T1 =', cv1, 'J/(kg*K)')\n",
    "\n",
    "# state 2\n",
    "state2 = ct.Water()    # create water object\n",
    "P2 = 1.0*101325.0   # pressure [Pa]\n",
    "T2 = 60 + 273.15     # temperature [K]\n",
    "state2.TP = T2, P2        # set the temperature and pressure\n",
    "cv2 = state2.cv           # get specific heat [J/(kg*K)]\n",
    "\n",
    "print('Specific heat at T2 =', cv2, 'J/(kg*K)')\n",
    "print('Relative difference = ',(cv1-cv2)/cv2*100,'%')"
   ]
  },
  {
   "cell_type": "markdown",
   "metadata": {},
   "source": [
    "Since there is a slight difference between $c_v(T_1)$ and $c_v(T_2)$, we can take the average and assume it is this constant value over the whole temperature range $T_1$ to $T_2$.  Let's compare this to the values of $U$ we would get assuming $c_v(T_1)$ and $c_v(T_2)$:"
   ]
  },
  {
   "cell_type": "code",
   "execution_count": null,
   "metadata": {},
   "outputs": [],
   "source": [
    "V = 16.0/33814.023    # volume of coffee [m^3]\n",
    "m = V/state1.v      # mass of coffee [kg]\n",
    "\n",
    "# assuming cv = cv1\n",
    "Q1 = m*cv1*(T2-T1)\n",
    "\n",
    "# assuming cv = cv2\n",
    "Q2 = m*cv2*(T2-T1)\n",
    "\n",
    "# assuming cv = cv_avg\n",
    "cv_avg = 0.5*(cv1+cv2)   # specific heat (assuming average value) [J/(kg*K)]\n",
    "Q_avg = m*cv_avg*(T2-T1)      # heat transferred [J]\n",
    "\n",
    "print('Heat transferred assuming cv = cv1 =',Q1,'J')\n",
    "print('Heat transferred assuming cv = cv2 =',Q2,'J')\n",
    "print('Heat transferred assuming cv = cv_avg =',Q_avg,'J')"
   ]
  },
  {
   "cell_type": "markdown",
   "metadata": {},
   "source": [
    "We again see the variation is about 4.8%.\n",
    "\n",
    "With the use of Cantera, we can do better than this.  We don't need to assume $c_v$ is a constant: we can just look up the value of $c_v$ at every intermediate temperature between $T_1$ and $T_2$ and add up the heat required to raise the coffee by each increment.  Using numerical quadrature functions like [scipy.integrate.quad](https://docs.scipy.org/doc/scipy/reference/generated/scipy.integrate.quad.html#scipy.integrate.quad), we don't need to choose the intermediate values of $T$; the algorithm does this for us!\n",
    "\n",
    "Let's return back to the defining equation for $c_v$:\n",
    "\n",
    "$\\dfrac{\\partial U}{\\partial T} = m c_v$\n",
    "\n",
    "We've already seen that, for liquids and solids, changes in pressure do not have much effect on thermodynamic properties compared to changes in temperature.  So it's reasonable to assume $c_v(T,P) \\approx c_v(T)$.\n",
    "\n",
    "With this in mind, we can rearrange the previous equation as\n",
    "\n",
    "$dU = m c_v(T) dT$\n",
    "\n",
    "which we can now integrate:\n",
    "\n",
    "$Q = \\Delta U = m \\int\\limits_{T_1}^{T_2} c_v(T) dT$\n",
    "\n",
    "So now we have four different equations for $\\frac{Q}{m}$:\n",
    "\n",
    "1. $\\dfrac{Q}{m} = c_{v,1}(T_2 - T_1)$\n",
    "1. $\\dfrac{Q}{m} = c_{v,2}(T_2 - T_1)$\n",
    "1. $\\dfrac{Q}{m} = c_{v,avg}(T_2 - T_1)$\n",
    "1. $\\dfrac{Q}{m} = \\int\\limits_{T_1}^{T_2} c_v(T) dT$\n",
    "\n",
    "The following figure shows the four different methods for calculating $Q$ graphically:\n",
    "\n",
    "<img src=\"../images/cv integration.png\" width=\"800\" />\n",
    "\n",
    "The green area in each case is $\\dfrac{Q}{m}$.  By the looks of it, numerical quadrature should provide the most accurate estimate of the area under the curve.  Other than that, assuming the average value over the whole interval, the third option, looks like it will provide a decent estimate too.\n",
    "\n",
    "First, we need to load the library for numerical integration and quadrature."
   ]
  },
  {
   "cell_type": "code",
   "execution_count": null,
   "metadata": {},
   "outputs": [],
   "source": [
    "import scipy.integrate as integrate"
   ]
  },
  {
   "cell_type": "code",
   "execution_count": null,
   "metadata": {},
   "outputs": [],
   "source": [
    "state = ct.Water()          # creat water object\n",
    "\n",
    "def cv_fun(T):\n",
    "    \n",
    "    state.TP = T, P1        # set the temperature and pressure\n",
    "    return state.cv         # return cv(T)"
   ]
  },
  {
   "cell_type": "code",
   "execution_count": null,
   "metadata": {},
   "outputs": [],
   "source": [
    "Q = m*integrate.quad(cv_fun,T1,T2)[0]\n",
    "\n",
    "print('Heat transferred using numerical quadrature',Q,'J')"
   ]
  },
  {
   "cell_type": "markdown",
   "metadata": {},
   "source": [
    "As we can see from these results, the answer we got assuming $c_v = c_{v,avg}$ is pretty close to the more precise answer we got using numerical quadrature.  This means that, although $c_v$ is not a constant, is is close to a straight line, so using the average value over any given range is usually pretty accurate.\n",
    "\n",
    "Let's say a typical microwave produces about $700 W$ of microwave power (running at full power setting).  How long would it take to heat this cup of coffee?  We can use the definitions of energy and power and rearrange to get\n",
    "\n",
    "$t = \\dfrac{Q}{P}$"
   ]
  },
  {
   "cell_type": "code",
   "execution_count": null,
   "metadata": {},
   "outputs": [],
   "source": [
    "print('Time taken to heat =',Q/700,'s')"
   ]
  },
  {
   "cell_type": "markdown",
   "metadata": {},
   "source": [
    "This assumes 100% of the power goes into heating the coffee.  Unfortunately, some power is wasted heating the cup itself and the other surfaces of the microwave."
   ]
  },
  {
   "attachments": {},
   "cell_type": "markdown",
   "metadata": {},
   "source": [
    "<a id='simcond'></a>\n",
    "\n",
    "### Simulating Heat Conduction\n",
    "\n",
    "In the previous section, we calculated the energy required to heat a liquid from one temperature to another.  In this section, we want to dig a little deeper and see how the heat is transferred and how the temperature changes over time.\n",
    "\n",
    "Heat conduction is the mechanism by which heat is transfered between two systems at rest relative to each other, where one system is at a higher temperature than the other.  If it happens slowly enough, we can consider both systems to be in a quasi-equilibrium state during the process; thus, we can speak of the change in thermodynamic properties of each system during the process.\n",
    "\n",
    "Let's consider a cooler filled with a refrigerated air placed in a room.  As you would expect, the temperature of the air in the vessel will gradually increase until it matches the room's air temperature.  The air temperature of the room will decrease ever so slightly, but we can assume this effect is negligible.  Heat is transfered to the system, which remains at a constant volume.\n",
    "\n",
    "<img src=\"../images/cooler.jpg\" width=\"200\" />\n",
    "model:\n",
    "<img src=\"../images/heat cond const v ex.png\" width=\"200\" />\n",
    "\n",
    "We want to determine how the temperature of the air inside the cooler changes over time.  The air inside the cooler constitutes the control system whose properties we are interested in.\n",
    "\n",
    "The following figure depicts the control boundary that energy may pass through but not mass:\n",
    "\n",
    "<img src=\"../images/control system.png\" width=\"500\" />\n",
    "\n",
    "When we model how energy flows into or out of a control system, we start with an energy balance (the First Law of Thermodynamics):\n",
    "\n",
    "$Q - W = \\Delta E_{sys}$\n",
    "\n",
    "where, as in the last example, we define $Q > 0$ to be heat transferred *to* the system and $W > 0$ to be work done *by* the system (on the surroundings).\n",
    "\n",
    "This cooler is not doing any work, and so we can write\n",
    "\n",
    "$Q = \\Delta E_{sys}$\n",
    "\n",
    "Now, we need to relate these terms to the temperatures $T_{sys}$ and $T_{room}$.\n",
    "\n",
    "If you have a hot cup of coffee, would it cool off faster if you left it on the counter, or if you put it in the refrigerator?  Intuitively, it seems like the greater the temperature difference, the faster the temperature change.  If we re-examine the plot of temperature vs. time step\n",
    "\n",
    "<img src=\"../images/temperature vs time.png\" width=\"500\">\n",
    "\n",
    "we see that the temperatures change the fastest at the beginning, when the difference between the hot and cold bodies is the greatest.  Towards the end, when the temperatures are closer, there is less change over time.\n",
    "\n",
    "With this trend in mind, the rate at which heat transfered can be well approximated by [Fourier's law](https://en.wikipedia.org/wiki/Thermal_conduction#Fourier's_law):\n",
    "\n",
    "$\\dfrac{dQ}{dt} = k(T_{room}-T_{sys})$\n",
    "\n",
    "where \\\\(k\\\\) is the thermal conductivity.\n",
    "\n",
    "As in the previous example, the rate at which the temperature of the air in the cooler increases is approximated by\n",
    "\n",
    "$\\dfrac{\\partial U_{sys}}{\\partial T_{sys}} = m c_v$\n",
    "\n",
    "where \\\\(m\\\\) is the mass of the air, and \\\\(c_v\\\\) is its specific heat at constant volume.\n",
    "\n",
    "If we assume air is an ideal gas, then mathematically it can be shown that $c_v(T,P) \\approx c_v(T)$, just like incompressible liquids and solids.  Thus, we can convert the partial derivative to an ordinary derivative:\n",
    "\n",
    "$\\dfrac{dU_{sys}}{dT_{sys}} = m c_v$\n",
    "\n",
    "Since the air and its container are at rest, we can assume $U_{sys} = E_{sys}$.\n",
    "\n",
    "Putting these equations together gives\n",
    "\n",
    "$k(T_{room}-T_{sys}) = \\dfrac{dQ}{dt} = \\dfrac{dE_{sys}}{dt} = \\dfrac{dU_{sys}}{dt} = \\dfrac{dU_{sys}}{dT_{sys}} \\dfrac{dT_{sys}}{dt} = m c_v \\dfrac{dT_{sys}}{dt}$\n",
    "\n",
    "This is an ordinary differential equation (ODE) in terms of the unknown function $T_{sys}(t)$, which we can solve since we know the intial value, $T_{sys}(0) = 278 K$.  Rearranging this equation into standard form gives\n",
    "\n",
    "$\\dfrac{dT_{sys}}{dt} = \\dfrac{k}{m c_v}(T_{room}-T_{sys})$\n",
    "\n",
    "Let's assume the values $m = 0.003 kg$ and $k = 0.01 \\frac{W}{K}$ and that $T_{room} = 295 K$ is constant.\n",
    "\n",
    "We will use [scipy.integrate.solve_ivp](https://docs.scipy.org/doc/scipy/reference/generated/scipy.integrate.solve_ivp.html), which is like MATLAB's ode45, to solve this initial value problem."
   ]
  },
  {
   "cell_type": "code",
   "execution_count": null,
   "metadata": {},
   "outputs": [],
   "source": [
    "state = ct.Solution('air.xml', 'air')      # create air object\n",
    "m = 0.003             # mass of air in cooler [kg]\n",
    "k = 0.01              # thermal conductivity [W/K]\n",
    "P = 101325.0          # air pressure [Pa]\n",
    "T_room = 295          # room temperature [K]\n",
    "\n",
    "def dT_sys(t, T_sys):\n",
    "    state.TP = T_sys, P        # set the temperature and pressure\n",
    "    return k/(m*state.cv)*(T_room-T_sys)"
   ]
  },
  {
   "cell_type": "code",
   "execution_count": null,
   "metadata": {},
   "outputs": [],
   "source": [
    "tspan = [0, 1500]     # time span of integration [s]\n",
    "ICs = [278]           # initial conditions [T_sys [K]]\n",
    "solution = integrate.solve_ivp(dT_sys,tspan,ICs)\n",
    "\n",
    "plt.plot(np.squeeze(solution.t)/60,np.squeeze(solution.y))\n",
    "plt.ylabel('Cooler air temperature [K]')\n",
    "plt.xlabel('Time [min]');"
   ]
  },
  {
   "cell_type": "markdown",
   "metadata": {},
   "source": [
    "This plot looks a little rough.  Each of the data points in the plot is accurate, there's just too few of them!\n",
    "\n",
    "We can fix this by specifying a time array for the plot that has enough points to make a smooth curve.  Let's try 101 points."
   ]
  },
  {
   "cell_type": "code",
   "execution_count": null,
   "metadata": {},
   "outputs": [],
   "source": [
    "tspan = [0, 1500]     # time span of integration [s]\n",
    "ICs = [278]           # initial conditions [T_sys [K]]\n",
    "tarray = np.linspace(0,1500,101)\n",
    "solution = integrate.solve_ivp(dT_sys,tspan,ICs,t_eval=tarray)  # notice we added the 't_eval' input\n",
    "\n",
    "plt.plot(np.squeeze(solution.t)/60,np.squeeze(solution.y))\n",
    "plt.ylabel('Cooler air temperature [K]')\n",
    "plt.xlabel('Time [min]');"
   ]
  },
  {
   "cell_type": "markdown",
   "metadata": {},
   "source": [
    "This plot shows the temperature inside the cooler increasing and asymptotically approaching the temperature of its surroundings, $T_{room} = 295 K$.  The differential equation that governs these dynamics is first-order, whose solutions are exponentials of the form\n",
    "\n",
    "$ae^{bt} + c$\n",
    "\n",
    "which is what we see here.\n",
    "\n",
    "It should also be noted that the cooler never exactly reaches room temperature because the rate of heat conduction decreases as the temperature difference decreases."
   ]
  },
  {
   "cell_type": "markdown",
   "metadata": {},
   "source": [
    "#### Try it!\n",
    "\n",
    "Let's say that the cooler is placed outside, where the ambient temperature is gradually decreasing according to the function\n",
    "\n",
    "$T_{room} = 295 - 0.005t$\n",
    "\n",
    "Plot $T_{sys}(t)$ from $t = 0$ to $t = 15,000 s$ and comment on the results."
   ]
  },
  {
   "cell_type": "code",
   "execution_count": null,
   "metadata": {},
   "outputs": [],
   "source": [
    "state = ct.Solution('air.xml', 'air')      # create air object\n",
    "m = 0.003             # mass of air in cooler [kg]\n",
    "k = 0.01              # thermal conductivity [W/K]\n",
    "P = 101325.0          # air pressure [Pa]\n",
    "\n",
    "def dT_sys_ex(t, T_sys):\n",
    "    T_room = 295 - 0.001*t          # room temperature [K]\n",
    "    state.TP = T_sys, P             # set the temperature and pressure\n",
    "    return k/(m*state.cv)*(T_room-T_sys)"
   ]
  },
  {
   "cell_type": "code",
   "execution_count": null,
   "metadata": {},
   "outputs": [],
   "source": [
    "tspan = [0, 15000]     # time span of integration [s]\n",
    "ICs = [278]           # initial conditions [T_sys [K]]\n",
    "tarray = np.linspace(0,15000,101)\n",
    "solution = integrate.solve_ivp(dT_sys_ex,tspan,ICs,t_eval=tarray)  # notice we added the 't_eval' input\n",
    "\n",
    "plt.plot(np.squeeze(solution.t)/60,np.squeeze(solution.y))\n",
    "plt.ylabel('Cooler air temperature [K]')\n",
    "plt.xlabel('Time [min]');"
   ]
  },
  {
   "cell_type": "markdown",
   "metadata": {},
   "source": [
    "This plot shows that the cooler warms up to room temperature in the first 25 minutes, then tracks the decrease in room temperature for the remainder of the simulation time."
   ]
  },
  {
   "cell_type": "code",
   "execution_count": null,
   "metadata": {},
   "outputs": [],
   "source": [
    "# Execute this cell to load the notebook's style sheet, then ignore it\n",
    "from IPython.core.display import HTML\n",
    "css_file = '../style/custom.css'\n",
    "HTML(open(css_file, \"r\").read())"
   ]
  }
 ],
 "metadata": {
  "kernelspec": {
   "display_name": "Python 3",
   "language": "python",
   "name": "python3"
  },
  "language_info": {
   "codemirror_mode": {
    "name": "ipython",
    "version": 3
   },
   "file_extension": ".py",
   "mimetype": "text/x-python",
   "name": "python",
   "nbconvert_exporter": "python",
   "pygments_lexer": "ipython3",
   "version": "3.6.5"
  }
 },
 "nbformat": 4,
 "nbformat_minor": 2
}
